{
 "cells": [
  {
   "cell_type": "code",
   "execution_count": 9,
   "id": "5ddb33d9",
   "metadata": {},
   "outputs": [],
   "source": [
    "import random\n",
    "import os\n",
    "import pandas as pd\n",
    "import csv\n",
    "\n",
    "def main():\n",
    "    num_list100 = []\n",
    "    num_list1000 = []\n",
    "    num_list10000 = []\n",
    "    num_list100000 = []\n",
    "\n",
    "    f = open('C:/dev/pyenv/opensw/Hw6/q2/first13.csv','w',encoding='utf-8')\n",
    "    writer = csv.writer(f)\n",
    "\n",
    "\n",
    "    for i in range(0,100):\n",
    "        num = random.randrange(1, 7)\n",
    "        num_list100.append(str(num))\n",
    "        f.write(str(num)+'\\n')\n",
    "\n",
    "    f.write(\"1000times\\n\")\n",
    "    for i in range(0,1000):\n",
    "        num = random.randrange(1, 7)\n",
    "        f.write(str(num)+'\\n')\n",
    "        num_list1000.append(str(num))\n",
    "    \n",
    "    f.write(\"10000times\\n\")\n",
    "    for i in range(0,10000):\n",
    "        num = random.randrange(1, 7)\n",
    "        f.write(str(num)+'\\n')\n",
    "    \n",
    "    f.write(\"100000times\\n\")\n",
    "    for i in range(0,100000):\n",
    "        num = random.randrange(1, 7)\n",
    "        f.write(str(num)+'\\n')\n",
    "\n",
    "    f.close()\n",
    "\n",
    "\n",
    "if __name__ == \"__main__\":\n",
    "    main()"
   ]
  }
 ],
 "metadata": {
  "kernelspec": {
   "display_name": "Python 3 (ipykernel)",
   "language": "python",
   "name": "python3"
  },
  "language_info": {
   "codemirror_mode": {
    "name": "ipython",
    "version": 3
   },
   "file_extension": ".py",
   "mimetype": "text/x-python",
   "name": "python",
   "nbconvert_exporter": "python",
   "pygments_lexer": "ipython3",
   "version": "3.9.13"
  }
 },
 "nbformat": 4,
 "nbformat_minor": 5
}
