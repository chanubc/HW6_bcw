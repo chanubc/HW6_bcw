{
 "cells": [
  {
   "cell_type": "code",
   "execution_count": null,
   "id": "0028a626",
   "metadata": {},
   "outputs": [],
   "source": [
    "import csv\n",
    "import matplotlib.pyplot as plt\n",
    "\n",
    "f= open('2022_Seoul_Temp.csv','r',encoding='ANSI')\n",
    "data = csv.reader(f)\n",
    "header = next(data)\n",
    "aug=[]\n",
    "\n",
    "for row in data:\n",
    "    month = row[0].split('-')[1] #month에 달 저장\n",
    "    if row[-1] != '': #달이 공백이 아니라면\n",
    "        if month == '08': #8월달이라면\n",
    "            aug.append(float(row[-1]))\n",
    "            \n",
    "plt.hist(aug, bins=10,color='r')\n",
    "plt.show()"
   ]
  }
 ],
 "metadata": {
  "kernelspec": {
   "display_name": "Python 3 (ipykernel)",
   "language": "python",
   "name": "python3"
  },
  "language_info": {
   "codemirror_mode": {
    "name": "ipython",
    "version": 3
   },
   "file_extension": ".py",
   "mimetype": "text/x-python",
   "name": "python",
   "nbconvert_exporter": "python",
   "pygments_lexer": "ipython3",
   "version": "3.9.13"
  }
 },
 "nbformat": 4,
 "nbformat_minor": 5
}
