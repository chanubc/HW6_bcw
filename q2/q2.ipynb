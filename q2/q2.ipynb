{
 "cells": [
  {
   "cell_type": "code",
   "execution_count": 29,
   "id": "714800cd",
   "metadata": {},
   "outputs": [
    {
     "name": "stdout",
     "output_type": "stream",
     "text": [
      "['2', '4', '1', '4', '5', '4', '3', '2', '1', '4', '4', '3', '6', '2', '3', '1', '6', '3', '5', '5', '5', '1', '3', '4', '1', '4', '1', '4', '4', '2', '6', '6', '1', '1', '2', '5', '3', '1', '1', '3', '4', '3', '1', '2', '6', '3', '3', '6', '3', '5', '1', '3', '3', '3', '2', '1', '5', '3', '6', '1', '4', '5', '6', '4', '5', '4', '5', '5', '1', '5', '5', '5', '6', '5', '4', '6', '6', '6', '5', '5', '2', '2', '3', '1', '1', '3', '6', '1', '6', '3', '5', '6', '5', '4', '3', '5', '6', '6', '5', '4']\n"
     ]
    }
   ],
   "source": [
    "import random\n",
    "import os\n",
    "import pandas as pd\n",
    "import csv\n",
    "\n",
    "num_list100 = []\n",
    "num_list1000 = []\n",
    "num_list10000 = []\n",
    "num_list100000 = []\n",
    "\n",
    "f = open('C:/dev/pyenv/opensw/Hw6/second.csv','w')\n",
    "writer = csv.writer(f)\n",
    "\n",
    "for i in range(0,100):\n",
    "    num = random.randrange(1, 7)\n",
    "    num_list100.append(str(num))\n",
    "    #f.write(str(num)+'\\n')|\n",
    "\n",
    "f.write(\"1000번\")\n",
    "for i in range(0,1000):\n",
    "    num = random.randrange(1, 6)\n",
    "    #f.write(str(num)+'\\n')\n",
    "    num_list1000.append(str(num))\n",
    "    \n",
    "    \n",
    "for i in range(0,1000):\n",
    "    writer.writerow(['',num_list1000[i]])\n",
    "for i in range(0,10000):\n",
    "    num = random.randrange(1, 6)\n",
    "    num_list10000.append(num)\n",
    "    \n",
    "for i in range(0,100000):\n",
    "    num = random.randrange(1, 6)\n",
    "    num_list100000.append(num)\n",
    "    \n",
    "print(num_list100)\n",
    "f.close()\n",
    "\n"
   ]
  },
  {
   "cell_type": "code",
   "execution_count": null,
   "id": "05d7cdfb",
   "metadata": {},
   "outputs": [],
   "source": []
  }
 ],
 "metadata": {
  "kernelspec": {
   "display_name": "Python 3 (ipykernel)",
   "language": "python",
   "name": "python3"
  },
  "language_info": {
   "codemirror_mode": {
    "name": "ipython",
    "version": 3
   },
   "file_extension": ".py",
   "mimetype": "text/x-python",
   "name": "python",
   "nbconvert_exporter": "python",
   "pygments_lexer": "ipython3",
   "version": "3.9.13"
  }
 },
 "nbformat": 4,
 "nbformat_minor": 5
}
