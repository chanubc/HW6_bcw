{
 "cells": [
  {
   "cell_type": "code",
   "execution_count": 3,
   "id": "aa73ab43",
   "metadata": {},
   "outputs": [
    {
     "ename": "ValueError",
     "evalue": "invalid literal for int() with base 10: '2014년_남자 인구수'",
     "output_type": "error",
     "traceback": [
      "\u001b[1;31m---------------------------------------------------------------------------\u001b[0m",
      "\u001b[1;31mValueError\u001b[0m                                Traceback (most recent call last)",
      "Cell \u001b[1;32mIn[3], line 41\u001b[0m\n\u001b[0;32m     38\u001b[0m     file_2000\u001b[38;5;241m.\u001b[39mclose()\n\u001b[0;32m     40\u001b[0m \u001b[38;5;28;01mif\u001b[39;00m \u001b[38;5;18m__name__\u001b[39m \u001b[38;5;241m==\u001b[39m \u001b[38;5;124m\"\u001b[39m\u001b[38;5;124m__main__\u001b[39m\u001b[38;5;124m\"\u001b[39m:\n\u001b[1;32m---> 41\u001b[0m     \u001b[43mmain\u001b[49m\u001b[43m(\u001b[49m\u001b[43m)\u001b[49m\n",
      "Cell \u001b[1;32mIn[3], line 15\u001b[0m, in \u001b[0;36mmain\u001b[1;34m()\u001b[0m\n\u001b[0;32m     12\u001b[0m woman \u001b[38;5;241m=\u001b[39m []\n\u001b[0;32m     14\u001b[0m \u001b[38;5;28;01mfor\u001b[39;00m row \u001b[38;5;129;01min\u001b[39;00m data_2012:\n\u001b[1;32m---> 15\u001b[0m     row[\u001b[38;5;241m3\u001b[39m] \u001b[38;5;241m=\u001b[39m \u001b[38;5;28;43mint\u001b[39;49m\u001b[43m(\u001b[49m\u001b[43mrow\u001b[49m\u001b[43m[\u001b[49m\u001b[38;5;241;43m3\u001b[39;49m\u001b[43m]\u001b[49m\u001b[43m)\u001b[49m\n\u001b[0;32m     16\u001b[0m     row[\u001b[38;5;241m4\u001b[39m] \u001b[38;5;241m=\u001b[39m \u001b[38;5;28mint\u001b[39m(row[\u001b[38;5;241m4\u001b[39m])\n\u001b[0;32m     17\u001b[0m     man\u001b[38;5;241m.\u001b[39mappend(row[\u001b[38;5;241m3\u001b[39m])\n",
      "\u001b[1;31mValueError\u001b[0m: invalid literal for int() with base 10: '2014년_남자 인구수'"
     ]
    }
   ],
   "source": [
    "import csv\n",
    "import matplotlib.pyplot as plt\n",
    "\n",
    "def main():\n",
    "    f2022 = open('popul12.csv', 'r',encoding='cp949')\n",
    "    f2012 = open('popul14.csv', 'r',encoding='cp949')\n",
    "\n",
    "    d2022 = csv.reader(f2022)\n",
    "    d2012 = csv.reader(f2012)\n",
    "\n",
    "    man = []\n",
    "    woman = []\n",
    "    \n",
    "    next(data_2022)\n",
    "\n",
    "    for row in data_2022:\n",
    "        man.append(int(row[-2])\n",
    "        woman.append(int(row[-1]))\n",
    "\n",
    "    for row in data_2022:\n",
    "        row[3] = int(row[3])\n",
    "        row[4] = int(row[4])\n",
    "        man.append(row[3])\n",
    "        woman.append(row[4])\n",
    "\n",
    "    x_data = [2000, 2012, 2022]\n",
    "    plt.title('Jeju Gender Ratio')\n",
    "    plt.xlabel(\"Year\")\n",
    "    plt.ylabel(\"Gender Ratio\")\n",
    "    plt.plot(x_data, man, color='b', label=\"Men\")\n",
    "    plt.plot(x_data, woman, color='r', label=\"Women\")\n",
    "    plt.xticks(x_data)\n",
    "    plt.legend()\n",
    "    plt.show()\n",
    "\n",
    "    file_2022.close()\n",
    "    file_2012.close()\n",
    "    file_2000.close()\n",
    "\n",
    "if __name__ == \"__main__\":\n",
    "    main()\n"
   ]
  },
  {
   "cell_type": "code",
   "execution_count": null,
   "id": "d5b50d1c",
   "metadata": {},
   "outputs": [],
   "source": []
  }
 ],
 "metadata": {
  "kernelspec": {
   "display_name": "Python 3 (ipykernel)",
   "language": "python",
   "name": "python3"
  },
  "language_info": {
   "codemirror_mode": {
    "name": "ipython",
    "version": 3
   },
   "file_extension": ".py",
   "mimetype": "text/x-python",
   "name": "python",
   "nbconvert_exporter": "python",
   "pygments_lexer": "ipython3",
   "version": "3.9.13"
  }
 },
 "nbformat": 4,
 "nbformat_minor": 5
}
